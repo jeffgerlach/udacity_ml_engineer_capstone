{
 "cells": [
  {
   "cell_type": "markdown",
   "metadata": {},
   "source": [
    "# Machine Learning Engineer Nanodegree Capstone Project\n",
    "## Toxic Comment Classification Challenge\n",
    "### Identify and classify toxic online comments\n",
    "#### Jeff Gerlach\n",
    "\n",
    "### Project Setup\n",
    "Here we will import the initially required libraries and import the Kaggle train and test dataset CSV files."
   ]
  },
  {
   "cell_type": "code",
   "execution_count": 3,
   "metadata": {},
   "outputs": [],
   "source": [
    "import numpy as np\n",
    "import pandas as pd\n",
    "import matplotlib.pyplot as plt\n",
    "from IPython.display import display, HTML\n",
    "import seaborn as sb\n",
    "\n",
    "%matplotlib inline\n",
    "\n",
    "train_data = pd.read_csv('./data/train.csv')\n",
    "test_data = pd.read_csv('./data/test.csv')\n",
    "test_labels = pd.read_csv('./data/test_labels.csv')\n",
    "# merge test labels with the original test dataset\n",
    "test_data_final = pd.merge(test_data, test_labels, on='id')\n",
    "# remove test data not used in scoring - these have labels of -1 for all toxicity subtypes\n",
    "test_data_final.drop(test_data_final.loc[test_data_final['toxic']==-1].index, inplace=True)"
   ]
  },
  {
   "cell_type": "markdown",
   "metadata": {},
   "source": [
    "### Dataset Analysis\n",
    "\n",
    "Here we take a high level view of the datasets we will be working with.\n",
    "\n",
    "First off, we check examples of the training and test data."
   ]
  },
  {
   "cell_type": "code",
   "execution_count": 81,
   "metadata": {},
   "outputs": [
    {
     "data": {
      "text/html": [
       "<div>\n",
       "<style scoped>\n",
       "    .dataframe tbody tr th:only-of-type {\n",
       "        vertical-align: middle;\n",
       "    }\n",
       "\n",
       "    .dataframe tbody tr th {\n",
       "        vertical-align: top;\n",
       "    }\n",
       "\n",
       "    .dataframe thead th {\n",
       "        text-align: right;\n",
       "    }\n",
       "</style>\n",
       "<table border=\"1\" class=\"dataframe\">\n",
       "  <thead>\n",
       "    <tr style=\"text-align: right;\">\n",
       "      <th></th>\n",
       "      <th>id</th>\n",
       "      <th>comment_text</th>\n",
       "      <th>toxic</th>\n",
       "      <th>severe_toxic</th>\n",
       "      <th>obscene</th>\n",
       "      <th>threat</th>\n",
       "      <th>insult</th>\n",
       "      <th>identity_hate</th>\n",
       "    </tr>\n",
       "  </thead>\n",
       "  <tbody>\n",
       "    <tr>\n",
       "      <th>159561</th>\n",
       "      <td>ffd2e85b07b3c7e4</td>\n",
       "      <td>\"\\nNo he did not, read it again (I would have ...</td>\n",
       "      <td>0</td>\n",
       "      <td>0</td>\n",
       "      <td>0</td>\n",
       "      <td>0</td>\n",
       "      <td>0</td>\n",
       "      <td>0</td>\n",
       "    </tr>\n",
       "    <tr>\n",
       "      <th>159562</th>\n",
       "      <td>ffd72e9766c09c97</td>\n",
       "      <td>\"\\n Auto guides and the motoring press are not...</td>\n",
       "      <td>0</td>\n",
       "      <td>0</td>\n",
       "      <td>0</td>\n",
       "      <td>0</td>\n",
       "      <td>0</td>\n",
       "      <td>0</td>\n",
       "    </tr>\n",
       "    <tr>\n",
       "      <th>159563</th>\n",
       "      <td>ffe029a7c79dc7fe</td>\n",
       "      <td>\"\\nplease identify what part of BLP applies be...</td>\n",
       "      <td>0</td>\n",
       "      <td>0</td>\n",
       "      <td>0</td>\n",
       "      <td>0</td>\n",
       "      <td>0</td>\n",
       "      <td>0</td>\n",
       "    </tr>\n",
       "    <tr>\n",
       "      <th>159564</th>\n",
       "      <td>ffe897e7f7182c90</td>\n",
       "      <td>Catalan independentism is the social movement ...</td>\n",
       "      <td>0</td>\n",
       "      <td>0</td>\n",
       "      <td>0</td>\n",
       "      <td>0</td>\n",
       "      <td>0</td>\n",
       "      <td>0</td>\n",
       "    </tr>\n",
       "    <tr>\n",
       "      <th>159565</th>\n",
       "      <td>ffe8b9316245be30</td>\n",
       "      <td>The numbers in parentheses are the additional ...</td>\n",
       "      <td>0</td>\n",
       "      <td>0</td>\n",
       "      <td>0</td>\n",
       "      <td>0</td>\n",
       "      <td>0</td>\n",
       "      <td>0</td>\n",
       "    </tr>\n",
       "    <tr>\n",
       "      <th>159566</th>\n",
       "      <td>ffe987279560d7ff</td>\n",
       "      <td>\":::::And for the second time of asking, when ...</td>\n",
       "      <td>0</td>\n",
       "      <td>0</td>\n",
       "      <td>0</td>\n",
       "      <td>0</td>\n",
       "      <td>0</td>\n",
       "      <td>0</td>\n",
       "    </tr>\n",
       "    <tr>\n",
       "      <th>159567</th>\n",
       "      <td>ffea4adeee384e90</td>\n",
       "      <td>You should be ashamed of yourself \\n\\nThat is ...</td>\n",
       "      <td>0</td>\n",
       "      <td>0</td>\n",
       "      <td>0</td>\n",
       "      <td>0</td>\n",
       "      <td>0</td>\n",
       "      <td>0</td>\n",
       "    </tr>\n",
       "    <tr>\n",
       "      <th>159568</th>\n",
       "      <td>ffee36eab5c267c9</td>\n",
       "      <td>Spitzer \\n\\nUmm, theres no actual article for ...</td>\n",
       "      <td>0</td>\n",
       "      <td>0</td>\n",
       "      <td>0</td>\n",
       "      <td>0</td>\n",
       "      <td>0</td>\n",
       "      <td>0</td>\n",
       "    </tr>\n",
       "    <tr>\n",
       "      <th>159569</th>\n",
       "      <td>fff125370e4aaaf3</td>\n",
       "      <td>And it looks like it was actually you who put ...</td>\n",
       "      <td>0</td>\n",
       "      <td>0</td>\n",
       "      <td>0</td>\n",
       "      <td>0</td>\n",
       "      <td>0</td>\n",
       "      <td>0</td>\n",
       "    </tr>\n",
       "    <tr>\n",
       "      <th>159570</th>\n",
       "      <td>fff46fc426af1f9a</td>\n",
       "      <td>\"\\nAnd ... I really don't think you understand...</td>\n",
       "      <td>0</td>\n",
       "      <td>0</td>\n",
       "      <td>0</td>\n",
       "      <td>0</td>\n",
       "      <td>0</td>\n",
       "      <td>0</td>\n",
       "    </tr>\n",
       "  </tbody>\n",
       "</table>\n",
       "</div>"
      ],
      "text/plain": [
       "                      id                                       comment_text  \\\n",
       "159561  ffd2e85b07b3c7e4  \"\\nNo he did not, read it again (I would have ...   \n",
       "159562  ffd72e9766c09c97  \"\\n Auto guides and the motoring press are not...   \n",
       "159563  ffe029a7c79dc7fe  \"\\nplease identify what part of BLP applies be...   \n",
       "159564  ffe897e7f7182c90  Catalan independentism is the social movement ...   \n",
       "159565  ffe8b9316245be30  The numbers in parentheses are the additional ...   \n",
       "159566  ffe987279560d7ff  \":::::And for the second time of asking, when ...   \n",
       "159567  ffea4adeee384e90  You should be ashamed of yourself \\n\\nThat is ...   \n",
       "159568  ffee36eab5c267c9  Spitzer \\n\\nUmm, theres no actual article for ...   \n",
       "159569  fff125370e4aaaf3  And it looks like it was actually you who put ...   \n",
       "159570  fff46fc426af1f9a  \"\\nAnd ... I really don't think you understand...   \n",
       "\n",
       "        toxic  severe_toxic  obscene  threat  insult  identity_hate  \n",
       "159561      0             0        0       0       0              0  \n",
       "159562      0             0        0       0       0              0  \n",
       "159563      0             0        0       0       0              0  \n",
       "159564      0             0        0       0       0              0  \n",
       "159565      0             0        0       0       0              0  \n",
       "159566      0             0        0       0       0              0  \n",
       "159567      0             0        0       0       0              0  \n",
       "159568      0             0        0       0       0              0  \n",
       "159569      0             0        0       0       0              0  \n",
       "159570      0             0        0       0       0              0  "
      ]
     },
     "execution_count": 81,
     "metadata": {},
     "output_type": "execute_result"
    }
   ],
   "source": [
    "train_data.tail(10)"
   ]
  },
  {
   "cell_type": "code",
   "execution_count": 82,
   "metadata": {},
   "outputs": [
    {
     "data": {
      "text/html": [
       "<div>\n",
       "<style scoped>\n",
       "    .dataframe tbody tr th:only-of-type {\n",
       "        vertical-align: middle;\n",
       "    }\n",
       "\n",
       "    .dataframe tbody tr th {\n",
       "        vertical-align: top;\n",
       "    }\n",
       "\n",
       "    .dataframe thead th {\n",
       "        text-align: right;\n",
       "    }\n",
       "</style>\n",
       "<table border=\"1\" class=\"dataframe\">\n",
       "  <thead>\n",
       "    <tr style=\"text-align: right;\">\n",
       "      <th></th>\n",
       "      <th>id</th>\n",
       "      <th>comment_text</th>\n",
       "      <th>toxic</th>\n",
       "      <th>severe_toxic</th>\n",
       "      <th>obscene</th>\n",
       "      <th>threat</th>\n",
       "      <th>insult</th>\n",
       "      <th>identity_hate</th>\n",
       "    </tr>\n",
       "  </thead>\n",
       "  <tbody>\n",
       "    <tr>\n",
       "      <th>153142</th>\n",
       "      <td>fff69311f306df44</td>\n",
       "      <td>Balancing the two approaches to psychiatry ( b...</td>\n",
       "      <td>0</td>\n",
       "      <td>0</td>\n",
       "      <td>0</td>\n",
       "      <td>0</td>\n",
       "      <td>0</td>\n",
       "      <td>0</td>\n",
       "    </tr>\n",
       "    <tr>\n",
       "      <th>153144</th>\n",
       "      <td>fff7159b3ee95618</td>\n",
       "      <td>== Your name mentioned == \\n Hi, I just though...</td>\n",
       "      <td>0</td>\n",
       "      <td>0</td>\n",
       "      <td>0</td>\n",
       "      <td>0</td>\n",
       "      <td>0</td>\n",
       "      <td>0</td>\n",
       "    </tr>\n",
       "    <tr>\n",
       "      <th>153145</th>\n",
       "      <td>fff718ffe5f05559</td>\n",
       "      <td>I've just discovered yet another list: List of...</td>\n",
       "      <td>0</td>\n",
       "      <td>0</td>\n",
       "      <td>0</td>\n",
       "      <td>0</td>\n",
       "      <td>0</td>\n",
       "      <td>0</td>\n",
       "    </tr>\n",
       "    <tr>\n",
       "      <th>153147</th>\n",
       "      <td>fff83b80284d8440</td>\n",
       "      <td>::Consensus for ruining Wikipedia? I think tha...</td>\n",
       "      <td>0</td>\n",
       "      <td>0</td>\n",
       "      <td>0</td>\n",
       "      <td>0</td>\n",
       "      <td>0</td>\n",
       "      <td>0</td>\n",
       "    </tr>\n",
       "    <tr>\n",
       "      <th>153149</th>\n",
       "      <td>fff8f521a7dbcd47</td>\n",
       "      <td>shut down the mexican border withought looking...</td>\n",
       "      <td>0</td>\n",
       "      <td>0</td>\n",
       "      <td>0</td>\n",
       "      <td>0</td>\n",
       "      <td>0</td>\n",
       "      <td>0</td>\n",
       "    </tr>\n",
       "    <tr>\n",
       "      <th>153150</th>\n",
       "      <td>fff8f64043129fa2</td>\n",
       "      <td>:Jerome, I see you never got around to this…! ...</td>\n",
       "      <td>0</td>\n",
       "      <td>0</td>\n",
       "      <td>0</td>\n",
       "      <td>0</td>\n",
       "      <td>0</td>\n",
       "      <td>0</td>\n",
       "    </tr>\n",
       "    <tr>\n",
       "      <th>153151</th>\n",
       "      <td>fff9d70fe0722906</td>\n",
       "      <td>==Lucky bastard== \\n http://wikimediafoundatio...</td>\n",
       "      <td>0</td>\n",
       "      <td>0</td>\n",
       "      <td>0</td>\n",
       "      <td>0</td>\n",
       "      <td>0</td>\n",
       "      <td>0</td>\n",
       "    </tr>\n",
       "    <tr>\n",
       "      <th>153154</th>\n",
       "      <td>fffa8a11c4378854</td>\n",
       "      <td>==shame on you all!!!== \\n\\n You want to speak...</td>\n",
       "      <td>0</td>\n",
       "      <td>0</td>\n",
       "      <td>0</td>\n",
       "      <td>0</td>\n",
       "      <td>0</td>\n",
       "      <td>0</td>\n",
       "    </tr>\n",
       "    <tr>\n",
       "      <th>153155</th>\n",
       "      <td>fffac2a094c8e0e2</td>\n",
       "      <td>MEL GIBSON IS A NAZI BITCH WHO MAKES SHITTY MO...</td>\n",
       "      <td>1</td>\n",
       "      <td>0</td>\n",
       "      <td>1</td>\n",
       "      <td>0</td>\n",
       "      <td>1</td>\n",
       "      <td>0</td>\n",
       "    </tr>\n",
       "    <tr>\n",
       "      <th>153156</th>\n",
       "      <td>fffb5451268fb5ba</td>\n",
       "      <td>\" \\n\\n == Unicorn lair discovery == \\n\\n Suppo...</td>\n",
       "      <td>0</td>\n",
       "      <td>0</td>\n",
       "      <td>0</td>\n",
       "      <td>0</td>\n",
       "      <td>0</td>\n",
       "      <td>0</td>\n",
       "    </tr>\n",
       "  </tbody>\n",
       "</table>\n",
       "</div>"
      ],
      "text/plain": [
       "                      id                                       comment_text  \\\n",
       "153142  fff69311f306df44  Balancing the two approaches to psychiatry ( b...   \n",
       "153144  fff7159b3ee95618  == Your name mentioned == \\n Hi, I just though...   \n",
       "153145  fff718ffe5f05559  I've just discovered yet another list: List of...   \n",
       "153147  fff83b80284d8440  ::Consensus for ruining Wikipedia? I think tha...   \n",
       "153149  fff8f521a7dbcd47  shut down the mexican border withought looking...   \n",
       "153150  fff8f64043129fa2  :Jerome, I see you never got around to this…! ...   \n",
       "153151  fff9d70fe0722906  ==Lucky bastard== \\n http://wikimediafoundatio...   \n",
       "153154  fffa8a11c4378854  ==shame on you all!!!== \\n\\n You want to speak...   \n",
       "153155  fffac2a094c8e0e2  MEL GIBSON IS A NAZI BITCH WHO MAKES SHITTY MO...   \n",
       "153156  fffb5451268fb5ba  \" \\n\\n == Unicorn lair discovery == \\n\\n Suppo...   \n",
       "\n",
       "        toxic  severe_toxic  obscene  threat  insult  identity_hate  \n",
       "153142      0             0        0       0       0              0  \n",
       "153144      0             0        0       0       0              0  \n",
       "153145      0             0        0       0       0              0  \n",
       "153147      0             0        0       0       0              0  \n",
       "153149      0             0        0       0       0              0  \n",
       "153150      0             0        0       0       0              0  \n",
       "153151      0             0        0       0       0              0  \n",
       "153154      0             0        0       0       0              0  \n",
       "153155      1             0        1       0       1              0  \n",
       "153156      0             0        0       0       0              0  "
      ]
     },
     "execution_count": 82,
     "metadata": {},
     "output_type": "execute_result"
    }
   ],
   "source": [
    "test_data_final.tail(10)"
   ]
  },
  {
   "cell_type": "code",
   "execution_count": 83,
   "metadata": {},
   "outputs": [
    {
     "name": "stdout",
     "output_type": "stream",
     "text": [
      "False\n",
      "False\n"
     ]
    },
    {
     "data": {
      "text/html": [
       "<div>\n",
       "<style scoped>\n",
       "    .dataframe tbody tr th:only-of-type {\n",
       "        vertical-align: middle;\n",
       "    }\n",
       "\n",
       "    .dataframe tbody tr th {\n",
       "        vertical-align: top;\n",
       "    }\n",
       "\n",
       "    .dataframe thead th {\n",
       "        text-align: right;\n",
       "    }\n",
       "</style>\n",
       "<table border=\"1\" class=\"dataframe\">\n",
       "  <thead>\n",
       "    <tr style=\"text-align: right;\">\n",
       "      <th></th>\n",
       "      <th>toxic</th>\n",
       "      <th>severe_toxic</th>\n",
       "      <th>obscene</th>\n",
       "      <th>threat</th>\n",
       "      <th>insult</th>\n",
       "      <th>identity_hate</th>\n",
       "    </tr>\n",
       "  </thead>\n",
       "  <tbody>\n",
       "    <tr>\n",
       "      <th>count</th>\n",
       "      <td>159571.000000</td>\n",
       "      <td>159571.000000</td>\n",
       "      <td>159571.000000</td>\n",
       "      <td>159571.000000</td>\n",
       "      <td>159571.000000</td>\n",
       "      <td>159571.000000</td>\n",
       "    </tr>\n",
       "    <tr>\n",
       "      <th>mean</th>\n",
       "      <td>0.095844</td>\n",
       "      <td>0.009996</td>\n",
       "      <td>0.052948</td>\n",
       "      <td>0.002996</td>\n",
       "      <td>0.049364</td>\n",
       "      <td>0.008805</td>\n",
       "    </tr>\n",
       "    <tr>\n",
       "      <th>std</th>\n",
       "      <td>0.294379</td>\n",
       "      <td>0.099477</td>\n",
       "      <td>0.223931</td>\n",
       "      <td>0.054650</td>\n",
       "      <td>0.216627</td>\n",
       "      <td>0.093420</td>\n",
       "    </tr>\n",
       "    <tr>\n",
       "      <th>min</th>\n",
       "      <td>0.000000</td>\n",
       "      <td>0.000000</td>\n",
       "      <td>0.000000</td>\n",
       "      <td>0.000000</td>\n",
       "      <td>0.000000</td>\n",
       "      <td>0.000000</td>\n",
       "    </tr>\n",
       "    <tr>\n",
       "      <th>25%</th>\n",
       "      <td>0.000000</td>\n",
       "      <td>0.000000</td>\n",
       "      <td>0.000000</td>\n",
       "      <td>0.000000</td>\n",
       "      <td>0.000000</td>\n",
       "      <td>0.000000</td>\n",
       "    </tr>\n",
       "    <tr>\n",
       "      <th>50%</th>\n",
       "      <td>0.000000</td>\n",
       "      <td>0.000000</td>\n",
       "      <td>0.000000</td>\n",
       "      <td>0.000000</td>\n",
       "      <td>0.000000</td>\n",
       "      <td>0.000000</td>\n",
       "    </tr>\n",
       "    <tr>\n",
       "      <th>75%</th>\n",
       "      <td>0.000000</td>\n",
       "      <td>0.000000</td>\n",
       "      <td>0.000000</td>\n",
       "      <td>0.000000</td>\n",
       "      <td>0.000000</td>\n",
       "      <td>0.000000</td>\n",
       "    </tr>\n",
       "    <tr>\n",
       "      <th>max</th>\n",
       "      <td>1.000000</td>\n",
       "      <td>1.000000</td>\n",
       "      <td>1.000000</td>\n",
       "      <td>1.000000</td>\n",
       "      <td>1.000000</td>\n",
       "      <td>1.000000</td>\n",
       "    </tr>\n",
       "  </tbody>\n",
       "</table>\n",
       "</div>"
      ],
      "text/plain": [
       "               toxic   severe_toxic        obscene         threat  \\\n",
       "count  159571.000000  159571.000000  159571.000000  159571.000000   \n",
       "mean        0.095844       0.009996       0.052948       0.002996   \n",
       "std         0.294379       0.099477       0.223931       0.054650   \n",
       "min         0.000000       0.000000       0.000000       0.000000   \n",
       "25%         0.000000       0.000000       0.000000       0.000000   \n",
       "50%         0.000000       0.000000       0.000000       0.000000   \n",
       "75%         0.000000       0.000000       0.000000       0.000000   \n",
       "max         1.000000       1.000000       1.000000       1.000000   \n",
       "\n",
       "              insult  identity_hate  \n",
       "count  159571.000000  159571.000000  \n",
       "mean        0.049364       0.008805  \n",
       "std         0.216627       0.093420  \n",
       "min         0.000000       0.000000  \n",
       "25%         0.000000       0.000000  \n",
       "50%         0.000000       0.000000  \n",
       "75%         0.000000       0.000000  \n",
       "max         1.000000       1.000000  "
      ]
     },
     "metadata": {},
     "output_type": "display_data"
    }
   ],
   "source": [
    "print(any(train_data['id'].duplicated())) # see if id values are repeated\n",
    "print(train_data.isnull().values.any()) # check for any n/a values\n",
    "display(train_data.describe()) # check statistics of each classification"
   ]
  },
  {
   "cell_type": "code",
   "execution_count": 85,
   "metadata": {},
   "outputs": [
    {
     "name": "stdout",
     "output_type": "stream",
     "text": [
      "Number of training examples 159571\n",
      "Number of test examples 63978\n",
      "Train/Test Ratio: 71.38% / 28.62%\n"
     ]
    }
   ],
   "source": [
    "train_size = train_data.shape[0]\n",
    "test_size = test_data_final.shape[0]\n",
    "total_count = train_size + test_size\n",
    "print(f\"Number of training examples {train_size}\")\n",
    "print(f\"Number of test examples {test_size}\")\n",
    "print(f\"Train/Test Ratio: {round(train_size/total_count * 100, 2)}% / {round(test_size/total_count * 100, 2)}%\")"
   ]
  },
  {
   "cell_type": "code",
   "execution_count": 86,
   "metadata": {},
   "outputs": [
    {
     "name": "stdout",
     "output_type": "stream",
     "text": [
      "Comments with no toxicity: 143346\n",
      "% of total training dataset marked as not toxic: 0.8983211235124177\n"
     ]
    }
   ],
   "source": [
    "# add a new column 'none' to indicate no toxicity\n",
    "train_data_new = train_data.copy()\n",
    "comment_category_totals=train_data.iloc[:,2:].sum(axis=1)\n",
    "train_data_new['none']=(comment_category_totals==0)\n",
    "print(f\"Comments with no toxicity: {train_data_new['none'].sum()}\")\n",
    "print(f\"% of total training dataset marked as not toxic: {train_data_new['none'].sum()/len(train_data_new)}\")"
   ]
  },
  {
   "cell_type": "code",
   "execution_count": 87,
   "metadata": {},
   "outputs": [
    {
     "name": "stdout",
     "output_type": "stream",
     "text": [
      "toxic             15294.0\n",
      "severe_toxic       1595.0\n",
      "obscene            8449.0\n",
      "threat              478.0\n",
      "insult             7877.0\n",
      "identity_hate      1405.0\n",
      "none             143346.0\n",
      "dtype: float64\n"
     ]
    }
   ],
   "source": [
    "print(train_data_new[['toxic', 'severe_toxic', 'obscene', 'threat', 'insult', 'identity_hate', 'none']].sum())"
   ]
  },
  {
   "cell_type": "code",
   "execution_count": 91,
   "metadata": {},
   "outputs": [
    {
     "data": {
      "image/png": "[encoded data removed]",
      "text/plain": [
       "<Figure size 720x360 with 1 Axes>"
      ]
     },
     "metadata": {
      "needs_background": "light"
     },
     "output_type": "display_data"
    }
   ],
   "source": [
    "x_vals=train_data_new.iloc[:,2:].sum()\n",
    "plt.figure(figsize=(10,5))\n",
    "axes = sb.barplot(x_vals.index, x_vals.values, alpha=0.7)\n",
    "plt.title(\"Toxicity Label Distribution in Training Dataset\")\n",
    "plt.ylabel('# Occurrences', fontsize=12)\n",
    "plt.xlabel('Toxcity Type', fontsize=12)\n",
    "rectangles = axes.patches\n",
    "labels = x_vals.values\n",
    "for rectangle, label in zip(rectangles, labels):\n",
    "    height = rectangle.get_height()\n",
    "    axes.text(rectangle.get_x() + rectangle.get_width()/2, height + 5, label, va='bottom', ha='center')\n",
    "plt.show()"
   ]
  },
  {
   "cell_type": "code",
   "execution_count": 90,
   "metadata": {},
   "outputs": [
    {
     "data": {
      "image/png": "[encoded data removed]",
      "text/plain": [
       "<Figure size 432x288 with 1 Axes>"
      ]
     },
     "metadata": {},
     "output_type": "display_data"
    }
   ],
   "source": [
    "labels = ['toxic', 'severe_toxic', 'obscene', 'threat', 'insult', 'identity_hate']\n",
    "plt.title('Ratio of Positive Toxicity Labels in Training Dataset')\n",
    "plt.pie(train_data_new[labels].sum(), labels=labels, autopct='%1.1f%%')\n",
    "plt.show()"
   ]
  },
  {
   "cell_type": "markdown",
   "metadata": {},
   "source": [
    "In the above analysis, we notice a few things - first, the training dataset is imbalanced with regards to comment classification labels. We see that almost 90% of the comments have no toxicity label, and for the comments that are labeled as toxic, the 'toxic' comment dominates nearly half of these positive examples. While not as bad as say the perennial spam dataset example where 1% of the data is classied as spam and the rest is not spam, care will need to be taken when selecting a validation set to match the positive and negative toxicity distribution along with the toxicity subtype distributions as closely as possible to avoid skewing results. We also note that the training data is 70% of the total data, which seems typical."
   ]
  },
  {
   "cell_type": "markdown",
   "metadata": {},
   "source": [
    "### Preprocessing data\n",
    "\n",
    "The input data that will be used to engineer and extract features is in the form of comment text. This input generally cannot be fed directly into machine learning models, and must first be converted into a large, sparse vector of numbers using tokenizing and vectorization. We will use Scikit Learn's `TfidVectorizer` function to transform the dataset documents (i.e. comments) into a matrix of TF-IDF features after splitting by both words and characters. Here we will use the combined training and test sets to make the overall word feature vector as this is not actively doing any model training, but merely generating features which will be used to train our models - there are varying opinions on this mixing of datasets, but it is allowed to take this approach in Kaggle competitions and so we will do so here for ease of processing. Default English language stopwords will be used, accents will be stripped from characters, and we will start with 1-grams and the top 10,000 words for the benchmark model. Based on [Logistic Regresion with words and char n-grams](https://www.kaggle.com/tunguz/logistic-regression-with-words-and-char-n-grams)."
   ]
  },
  {
   "cell_type": "code",
   "execution_count": 76,
   "metadata": {},
   "outputs": [],
   "source": [
    "from sklearn.feature_extraction.text import TfidfVectorizer\n",
    "from scipy.sparse import hstack\n",
    "\n",
    "# combine training and test comments so we have the entire corpus of words and characters for vectorization\n",
    "combined_comments = pd.concat([train_data['comment_text'], test_data_final['comment_text']])\n",
    "word_vec = TfidfVectorizer(stop_words='english', analyzer='word', strip_accents='unicode', sublinear_tf=True,\n",
    "                           token_pattern=r'\\w{1,}', max_features=10000, ngram_range=(1,1))\n",
    "word_vec.fit(combined_comments)\n",
    "train_word_features = word_vec.transform(train_data['comment_text'])\n",
    "test_word_features = word_vec.transform(test_data_final['comment_text'])\n",
    "\n",
    "character_vec = TfidfVectorizer(analyzer='char', stop_words='english', strip_accents='unicode', sublinear_tf=True,\n",
    "                               max_features=50000, ngram_range=(2,6))\n",
    "character_vec.fit(combined_comments)\n",
    "train_char_features = character_vec.transform(train_data['comment_text'])\n",
    "test_char_features = character_vec.transform(test_data_final['comment_text'])\n",
    "\n",
    "train_data_features = hstack([train_char_features, train_word_features])\n",
    "test_data_features = hstack([test_char_features, test_word_features])"
   ]
  },
  {
   "cell_type": "markdown",
   "metadata": {},
   "source": [
    "### Benchmark Model\n",
    "\n",
    "Here we use a basic logistic regression model trained on the word and character-vectorized features above."
   ]
  },
  {
   "cell_type": "code",
   "execution_count": 77,
   "metadata": {},
   "outputs": [],
   "source": [
    "class_names = ['toxic', 'severe_toxic', 'obscene', 'threat', 'insult', 'identity_hate']"
   ]
  },
  {
   "cell_type": "code",
   "execution_count": 78,
   "metadata": {},
   "outputs": [
    {
     "name": "stdout",
     "output_type": "stream",
     "text": [
      "CV score for class toxic is 0.9697993918268214\n",
      "CV score for class severe_toxic is 0.9877323751427841\n",
      "CV score for class obscene is 0.9846509200683157\n",
      "CV score for class threat is 0.983168843862221\n",
      "CV score for class insult is 0.977893576501816\n",
      "CV score for class identity_hate is 0.9743483066936713\n",
      "Total CV score is 0.9795989023492715\n"
     ]
    }
   ],
   "source": [
    "from sklearn.linear_model import LogisticRegression\n",
    "from sklearn.model_selection import cross_val_score\n",
    "\n",
    "scores = []\n",
    "submission = pd.DataFrame.from_dict({'id': test_data_final['id']})\n",
    "for class_name in class_names:\n",
    "    train_target = train_data[class_name]\n",
    "    classifier = LogisticRegression(C=0.1, solver='sag')\n",
    "\n",
    "    cv_score = np.mean(cross_val_score(classifier, train_data_features, train_target, cv=3, scoring='roc_auc'))\n",
    "    scores.append(cv_score)\n",
    "    print('CV score for class {} is {}'.format(class_name, cv_score))\n",
    "\n",
    "    classifier.fit(train_data_features, train_target)\n",
    "    submission[class_name] = classifier.predict_proba(test_data_features)[:, 1]\n",
    "\n",
    "print('Total CV score is {}'.format(np.mean(scores)))"
   ]
  },
  {
   "cell_type": "code",
   "execution_count": 79,
   "metadata": {},
   "outputs": [
    {
     "name": "stdout",
     "output_type": "stream",
     "text": [
      "Test set score is 0.9764853663137982\n"
     ]
    }
   ],
   "source": [
    "submission.to_csv('benchmark_submission.csv', index=False) # convert to file for Kaggle submission\n",
    "from sklearn.metrics import roc_auc_score\n",
    "def test_score(predicted_vals):\n",
    "    '''Actual Kaggle competion score using test set labels provided after competition close'''\n",
    "    actuals = test_labels.copy()\n",
    "    actuals.drop(actuals.loc[actuals['toxic']==-1].index, inplace=True)\n",
    "    scores_test = []\n",
    "    for class_name in class_names:\n",
    "        score = roc_auc_score(actuals[class_name], predicted_vals[class_name])\n",
    "        scores_test.append(score)\n",
    "    print('Test set score is {}'.format(np.mean(scores_test)))\n",
    "\n",
    "test_score(submission)"
   ]
  },
  {
   "cell_type": "markdown",
   "metadata": {},
   "source": [
    "We see that with the appropriate features, even a basic model can achieve very good performance - an averaged 97.6% ROC AUC score for each of the classification labels. "
   ]
  },
  {
   "cell_type": "markdown",
   "metadata": {},
   "source": [
    "### Capstone Model\n",
    "\n",
    "Here we will develop a neural network architecture to try and achieve better performance that the logistic regression benchmark model utilized above. The goal will be to implement a Capsule net using GRU with a pretrained word embedding. The framework for this was referenced from the [\"Capsule net with GRU\"](https://www.kaggle.com/chongjiujjin/capsule-net-with-gru), with tweaks made to the embedding, test/train split, and parameters used to achieve higher ROC AUC."
   ]
  },
  {
   "cell_type": "code",
   "execution_count": 48,
   "metadata": {},
   "outputs": [
    {
     "name": "stdout",
     "output_type": "stream",
     "text": [
      "['.DS_Store', 'crawl-300d-2M.vec', 'glove.840B.300d.txt']\n"
     ]
    }
   ],
   "source": [
    "import os\n",
    "os.environ['KMP_DUPLICATE_LIB_OK']='True'  # Mac OS X bug\n",
    "from keras.layers import Dense, Input, Bidirectional, Activation, Conv1D, GRU\n",
    "from keras.callbacks import Callback\n",
    "from keras.layers import Dropout,Embedding,GlobalMaxPooling1D, MaxPooling1D, Add, Flatten\n",
    "from keras.preprocessing import text, sequence\n",
    "from keras.layers import GlobalAveragePooling1D, GlobalMaxPooling1D, concatenate, SpatialDropout1D\n",
    "from keras import initializers, regularizers, constraints, optimizers, layers, callbacks\n",
    "from keras.callbacks import EarlyStopping,ModelCheckpoint\n",
    "from keras.models import Model\n",
    "from keras.optimizers import Adam\n",
    "from sklearn.model_selection import train_test_split\n",
    "from sklearn.metrics import accuracy_score\n",
    "from sklearn.metrics import roc_auc_score\n",
    "print(os.listdir(\"./input\"))"
   ]
  },
  {
   "cell_type": "code",
   "execution_count": 50,
   "metadata": {},
   "outputs": [],
   "source": [
    "EMBEDDING_FILE = './input/crawl-300d-2M.vec'\n",
    "train= pd.read_csv('./data/train.csv')\n",
    "test = pd.read_csv('./data/test.csv')\n",
    "train[\"comment_text\"].fillna(\"fillna\")\n",
    "test[\"comment_text\"].fillna(\"fillna\")\n",
    "X_train = train[\"comment_text\"].str.lower()\n",
    "y_train = train[[\"toxic\", \"severe_toxic\", \"obscene\", \"threat\", \"insult\", \"identity_hate\"]].values\n",
    "\n",
    "X_test = test[\"comment_text\"].str.lower()"
   ]
  },
  {
   "cell_type": "code",
   "execution_count": 51,
   "metadata": {},
   "outputs": [],
   "source": [
    "max_features=100000\n",
    "maxlen=200\n",
    "embed_size=300"
   ]
  },
  {
   "cell_type": "code",
   "execution_count": 52,
   "metadata": {},
   "outputs": [],
   "source": [
    "# Evaluation function based on Kaggle competition metric for optimization\n",
    "class RocAucEvaluation(Callback):\n",
    "    def __init__(self, validation_data=(), interval=1):\n",
    "        super(Callback, self).__init__()\n",
    "        self.interval = interval\n",
    "        self.X_val, self.y_val = validation_data\n",
    "\n",
    "    def on_epoch_end(self, epoch, logs={}):\n",
    "        if epoch % self.interval == 0:\n",
    "            y_pred = self.model.predict(self.X_val, verbose=0)\n",
    "            score = roc_auc_score(self.y_val, y_pred)\n",
    "            print(\"\\n ROC-AUC - epoch: {:d} - score: {:.6f}\".format(epoch+1, score))"
   ]
  },
  {
   "cell_type": "code",
   "execution_count": 53,
   "metadata": {},
   "outputs": [],
   "source": [
    "# Tokenize comments and pad to max length so all inputs are the same size\n",
    "tok=text.Tokenizer(num_words=max_features,lower=True)\n",
    "tok.fit_on_texts(list(X_train)+list(X_test))\n",
    "X_train=tok.texts_to_sequences(X_train)\n",
    "X_test=tok.texts_to_sequences(X_test)\n",
    "x_train=sequence.pad_sequences(X_train,maxlen=maxlen)\n",
    "x_test=sequence.pad_sequences(X_test,maxlen=maxlen)"
   ]
  },
  {
   "cell_type": "code",
   "execution_count": 54,
   "metadata": {},
   "outputs": [],
   "source": [
    "embeddings_index = {}\n",
    "with open(EMBEDDING_FILE, encoding='utf8') as f:\n",
    "    for line in f:\n",
    "        values = line.rstrip().rsplit(' ')\n",
    "        word = values[0]\n",
    "        coefs = np.asarray(values[1:], dtype='float32')\n",
    "        embeddings_index[word] = coefs"
   ]
  },
  {
   "cell_type": "code",
   "execution_count": 55,
   "metadata": {},
   "outputs": [],
   "source": [
    "# create the embedding matrix from the Facebook crawl dataset\n",
    "word_index = tok.word_index\n",
    "num_words = min(max_features, len(word_index) + 1)\n",
    "embedding_matrix = np.zeros((num_words, embed_size)) # set not found words to vector of zeros in embedding\n",
    "for word, i in word_index.items():\n",
    "    if i >= max_features:\n",
    "        continue\n",
    "    embedding_vector = embeddings_index.get(word)\n",
    "    if embedding_vector is not None:\n",
    "        embedding_matrix[i] = embedding_vector"
   ]
  },
  {
   "cell_type": "code",
   "execution_count": 56,
   "metadata": {},
   "outputs": [],
   "source": [
    "from keras.layers import K, Activation\n",
    "from keras.engine import Layer\n",
    "from keras.layers import Dense, Input, Embedding, Dropout, Bidirectional, GRU, Flatten, SpatialDropout1D\n",
    "gru_len = 128\n",
    "Routings = 5\n",
    "Num_capsule = 10\n",
    "Dim_capsule = 16\n",
    "dropout_p = 0.25\n",
    "rate_drop_dense = 0.28\n",
    "\n",
    "def squash(x, axis=-1):\n",
    "    s_squared_norm = K.sum(K.square(x), axis, keepdims=True)\n",
    "    scale = K.sqrt(s_squared_norm + K.epsilon())\n",
    "    return x / scale\n",
    "\n",
    "class Capsule(Layer):\n",
    "    def __init__(self, num_capsule, dim_capsule, routings=3, kernel_size=(9, 1), share_weights=True,\n",
    "                 activation='default', **kwargs):\n",
    "        super(Capsule, self).__init__(**kwargs)\n",
    "        self.num_capsule = num_capsule\n",
    "        self.dim_capsule = dim_capsule\n",
    "        self.routings = routings\n",
    "        self.kernel_size = kernel_size\n",
    "        self.share_weights = share_weights\n",
    "        if activation == 'default':\n",
    "            self.activation = squash\n",
    "        else:\n",
    "            self.activation = Activation(activation)\n",
    "\n",
    "    def build(self, input_shape):\n",
    "        super(Capsule, self).build(input_shape)\n",
    "        input_dim_capsule = input_shape[-1]\n",
    "        if self.share_weights:\n",
    "            self.W = self.add_weight(name='capsule_kernel',\n",
    "                                     shape=(1, input_dim_capsule,\n",
    "                                            self.num_capsule * self.dim_capsule),\n",
    "                                     initializer='glorot_uniform',\n",
    "                                     trainable=True)\n",
    "        else:\n",
    "            input_num_capsule = input_shape[-2]\n",
    "            self.W = self.add_weight(name='capsule_kernel',\n",
    "                                     shape=(input_num_capsule,\n",
    "                                            input_dim_capsule,\n",
    "                                            self.num_capsule * self.dim_capsule),\n",
    "                                     initializer='glorot_uniform',\n",
    "                                     trainable=True)\n",
    "\n",
    "    def call(self, u_vecs):\n",
    "        if self.share_weights:\n",
    "            u_hat_vecs = K.conv1d(u_vecs, self.W)\n",
    "        else:\n",
    "            u_hat_vecs = K.local_conv1d(u_vecs, self.W, [1], [1])\n",
    "\n",
    "        batch_size = K.shape(u_vecs)[0]\n",
    "        input_num_capsule = K.shape(u_vecs)[1]\n",
    "        u_hat_vecs = K.reshape(u_hat_vecs, (batch_size, input_num_capsule,\n",
    "                                            self.num_capsule, self.dim_capsule))\n",
    "        u_hat_vecs = K.permute_dimensions(u_hat_vecs, (0, 2, 1, 3))\n",
    "\n",
    "        b = K.zeros_like(u_hat_vecs[:, :, :, 0])\n",
    "        for i in range(self.routings):\n",
    "            b = K.permute_dimensions(b, (0, 2, 1))\n",
    "            c = K.softmax(b)\n",
    "            c = K.permute_dimensions(c, (0, 2, 1))\n",
    "            b = K.permute_dimensions(b, (0, 2, 1))\n",
    "            outputs = self.activation(K.batch_dot(c, u_hat_vecs, [2, 2]))\n",
    "            if i < self.routings - 1:\n",
    "                b = K.batch_dot(outputs, u_hat_vecs, [2, 3])\n",
    "\n",
    "        return outputs\n",
    "\n",
    "    def compute_output_shape(self, input_shape):\n",
    "        return (None, self.num_capsule, self.dim_capsule)\n",
    "\n",
    "\n",
    "def get_model():\n",
    "    input1 = Input(shape=(maxlen,))\n",
    "    embed_layer = Embedding(max_features,\n",
    "                            embed_size,\n",
    "                            input_length=maxlen,\n",
    "                            weights=[embedding_matrix],\n",
    "                            trainable=False)(input1)\n",
    "    embed_layer = SpatialDropout1D(rate_drop_dense)(embed_layer)\n",
    "    \n",
    "    x = Bidirectional(\n",
    "        GRU(gru_len, activation='relu', dropout=dropout_p, recurrent_dropout=dropout_p, return_sequences=True))(\n",
    "        embed_layer)\n",
    "    capsule = Capsule(num_capsule=Num_capsule, dim_capsule=Dim_capsule, routings=Routings,\n",
    "                      share_weights=True)(x)\n",
    "    capsule = Flatten()(capsule)\n",
    "    capsule = Dropout(dropout_p)(capsule)\n",
    "    output = Dense(6, activation='sigmoid')(capsule)\n",
    "    model = Model(inputs=input1, outputs=output)\n",
    "    model.compile(\n",
    "        loss='binary_crossentropy',\n",
    "        optimizer='adam',\n",
    "        metrics=['accuracy'])\n",
    "    model.summary()\n",
    "    return model"
   ]
  },
  {
   "cell_type": "code",
   "execution_count": 57,
   "metadata": {},
   "outputs": [
    {
     "name": "stdout",
     "output_type": "stream",
     "text": [
      "WARNING:tensorflow:From /Users/jgerlach/anaconda3/lib/python3.7/site-packages/keras/backend/tensorflow_backend.py:3445: calling dropout (from tensorflow.python.ops.nn_ops) with keep_prob is deprecated and will be removed in a future version.\n",
      "Instructions for updating:\n",
      "Please use `rate` instead of `keep_prob`. Rate should be set to `rate = 1 - keep_prob`.\n",
      "_________________________________________________________________\n",
      "Layer (type)                 Output Shape              Param #   \n",
      "=================================================================\n",
      "input_4 (InputLayer)         (None, 200)               0         \n",
      "_________________________________________________________________\n",
      "embedding_4 (Embedding)      (None, 200, 300)          30000000  \n",
      "_________________________________________________________________\n",
      "spatial_dropout1d_1 (Spatial (None, 200, 300)          0         \n",
      "_________________________________________________________________\n",
      "bidirectional_1 (Bidirection (None, 200, 256)          329472    \n",
      "_________________________________________________________________\n",
      "capsule_1 (Capsule)          (None, 10, 16)            40960     \n",
      "_________________________________________________________________\n",
      "flatten_1 (Flatten)          (None, 160)               0         \n",
      "_________________________________________________________________\n",
      "dropout_1 (Dropout)          (None, 160)               0         \n",
      "_________________________________________________________________\n",
      "dense_1 (Dense)              (None, 6)                 966       \n",
      "=================================================================\n",
      "Total params: 30,371,398\n",
      "Trainable params: 371,398\n",
      "Non-trainable params: 30,000,000\n",
      "_________________________________________________________________\n"
     ]
    }
   ],
   "source": [
    "from skmultilearn.model_selection import iterative_train_test_split\n",
    "\n",
    "model = get_model()\n",
    "\n",
    "batch_size = 256\n",
    "epochs = 3\n",
    "# utilize stratified sampling to improve model training and accuracy\n",
    "X_tra, y_tra, X_val, y_val = iterative_train_test_split(x_train, y_train, test_size=0.05)\n",
    "RocAuc = RocAucEvaluation(validation_data=(X_val, y_val), interval=1)"
   ]
  },
  {
   "cell_type": "code",
   "execution_count": 58,
   "metadata": {},
   "outputs": [
    {
     "name": "stdout",
     "output_type": "stream",
     "text": [
      "WARNING:tensorflow:From /Users/jgerlach/anaconda3/lib/python3.7/site-packages/tensorflow/python/ops/math_ops.py:3066: to_int32 (from tensorflow.python.ops.math_ops) is deprecated and will be removed in a future version.\n",
      "Instructions for updating:\n",
      "Use tf.cast instead.\n",
      "Train on 151592 samples, validate on 7979 samples\n",
      "Epoch 1/3\n",
      "151592/151592 [==============================] - 1431s 9ms/step - loss: 0.0797 - acc: 0.9766 - val_loss: 0.0460 - val_acc: 0.9830\n",
      "\n",
      " ROC-AUC - epoch: 1 - score: 0.978652\n",
      "Epoch 2/3\n",
      "151592/151592 [==============================] - 1440s 10ms/step - loss: 0.0491 - acc: 0.9819 - val_loss: 0.0464 - val_acc: 0.9823\n",
      "\n",
      " ROC-AUC - epoch: 2 - score: 0.985561\n",
      "Epoch 3/3\n",
      "151592/151592 [==============================] - 1423s 9ms/step - loss: 0.0451 - acc: 0.9829 - val_loss: 0.0417 - val_acc: 0.9836\n",
      "\n",
      " ROC-AUC - epoch: 3 - score: 0.987699\n"
     ]
    }
   ],
   "source": [
    "hist = model.fit(X_tra, y_tra, batch_size=batch_size, epochs=epochs, validation_data=(X_val, y_val),\n",
    "                 callbacks=[RocAuc], verbose=1)"
   ]
  },
  {
   "cell_type": "code",
   "execution_count": 59,
   "metadata": {},
   "outputs": [
    {
     "name": "stdout",
     "output_type": "stream",
     "text": [
      "153164/153164 [==============================] - 437s 3ms/step\n"
     ]
    }
   ],
   "source": [
    "model.save_weights('new_model_2.hdf5')\n",
    "y_pred = model.predict(x_test, batch_size=1024, verbose=1)"
   ]
  },
  {
   "cell_type": "code",
   "execution_count": 64,
   "metadata": {},
   "outputs": [
    {
     "name": "stdout",
     "output_type": "stream",
     "text": [
      "Test set score is 0.981477524354104\n"
     ]
    }
   ],
   "source": [
    "submission_new = pd.read_csv('./data/sample_submission.csv')\n",
    "submission_new[[\"toxic\", \"severe_toxic\", \"obscene\", \"threat\", \"insult\", \"identity_hate\"]] = y_pred\n",
    "submission_new.to_csv('submission_new_2.csv', index=False)\n",
    "test_score(submission_new.drop(submission_new.loc[pd.merge(test_data, test_labels, on='id')['toxic']==-1].index))"
   ]
  },
  {
   "cell_type": "markdown",
   "metadata": {},
   "source": [
    "We see fairly good results here, but we will attempt to try a method known as ensembling to improve the accuracy on the test set even more. The basic approach is to combine the output from several models together (one way would be to average the probabilities) - the less correlated the models are (i.e. the more different they are in their approach), the better results you will generally see. Next I will implement a Pooled Gated Recurrent Unit (GRU) network, and averge the results with both the baseline logistic regression and CapsuleNet models to create a final ensemble result to see if we get increased predictive power on the final output.\n",
    "\n",
    "First we build and train and run predictions with the GRU network, referenced from [\"Bidirectional GRU with Convolution\"](https://www.kaggle.com/eashish/bidirectional-gru-with-convolution):"
   ]
  },
  {
   "cell_type": "code",
   "execution_count": 65,
   "metadata": {},
   "outputs": [],
   "source": [
    "sequence_input = Input(shape=(maxlen, ))\n",
    "x = Embedding(max_features, embed_size, weights=[embedding_matrix],trainable = False)(sequence_input)\n",
    "x = SpatialDropout1D(0.2)(x)\n",
    "x = Bidirectional(GRU(128, return_sequences=True,dropout=0.1,recurrent_dropout=0.1))(x)\n",
    "x = Conv1D(64, kernel_size = 3, padding = \"valid\", kernel_initializer = \"glorot_uniform\")(x)\n",
    "avg_pool = GlobalAveragePooling1D()(x)\n",
    "max_pool = GlobalMaxPooling1D()(x)\n",
    "x = concatenate([avg_pool, max_pool]) \n",
    "preds = Dense(6, activation=\"sigmoid\")(x)\n",
    "gru_model = Model(sequence_input, preds)\n",
    "gru_model.compile(loss='binary_crossentropy',optimizer=Adam(lr=1e-3),metrics=['accuracy'])"
   ]
  },
  {
   "cell_type": "code",
   "execution_count": 67,
   "metadata": {},
   "outputs": [],
   "source": [
    "batch_size = 128\n",
    "epochs = 4\n",
    "# Use stratified sampling again\n",
    "X_tra, y_tra, X_val, y_val = iterative_train_test_split(x_train, y_train, test_size=0.1)"
   ]
  },
  {
   "cell_type": "code",
   "execution_count": 68,
   "metadata": {},
   "outputs": [],
   "source": [
    "checkpoint = ModelCheckpoint(\"gru_model.hdf5\", monitor='val_acc', verbose=1, save_best_only=True, mode='max')\n",
    "early = EarlyStopping(monitor=\"val_acc\", mode=\"max\", patience=5)\n",
    "ra_val = RocAucEvaluation(validation_data=(X_val, y_val), interval = 1)\n",
    "callbacks_list = [ra_val,checkpoint, early]"
   ]
  },
  {
   "cell_type": "code",
   "execution_count": 192,
   "metadata": {},
   "outputs": [
    {
     "name": "stdout",
     "output_type": "stream",
     "text": [
      "__________________________________________________________________________________________________\n",
      "Layer (type)                    Output Shape         Param #     Connected to                     \n",
      "==================================================================================================\n",
      "input_5 (InputLayer)            (None, 200)          0                                            \n",
      "__________________________________________________________________________________________________\n",
      "embedding_5 (Embedding)         (None, 200, 300)     30000000    input_5[0][0]                    \n",
      "__________________________________________________________________________________________________\n",
      "spatial_dropout1d_2 (SpatialDro (None, 200, 300)     0           embedding_5[0][0]                \n",
      "__________________________________________________________________________________________________\n",
      "bidirectional_2 (Bidirectional) (None, 200, 256)     329472      spatial_dropout1d_2[0][0]        \n",
      "__________________________________________________________________________________________________\n",
      "conv1d_1 (Conv1D)               (None, 198, 64)      49216       bidirectional_2[0][0]            \n",
      "__________________________________________________________________________________________________\n",
      "global_average_pooling1d_1 (Glo (None, 64)           0           conv1d_1[0][0]                   \n",
      "__________________________________________________________________________________________________\n",
      "global_max_pooling1d_1 (GlobalM (None, 64)           0           conv1d_1[0][0]                   \n",
      "__________________________________________________________________________________________________\n",
      "concatenate_1 (Concatenate)     (None, 128)          0           global_average_pooling1d_1[0][0] \n",
      "                                                                 global_max_pooling1d_1[0][0]     \n",
      "__________________________________________________________________________________________________\n",
      "dense_2 (Dense)                 (None, 6)            774         concatenate_1[0][0]              \n",
      "==================================================================================================\n",
      "Total params: 30,379,462\n",
      "Trainable params: 379,462\n",
      "Non-trainable params: 30,000,000\n",
      "__________________________________________________________________________________________________\n"
     ]
    }
   ],
   "source": [
    "gru_model.summary()"
   ]
  },
  {
   "cell_type": "code",
   "execution_count": 69,
   "metadata": {},
   "outputs": [
    {
     "name": "stdout",
     "output_type": "stream",
     "text": [
      "WARNING:tensorflow:From /Users/jgerlach/anaconda3/lib/python3.7/site-packages/tensorflow/python/ops/math_grad.py:102: div (from tensorflow.python.ops.math_ops) is deprecated and will be removed in a future version.\n",
      "Instructions for updating:\n",
      "Deprecated in favor of operator or tf.math.divide.\n",
      "Train on 143613 samples, validate on 15958 samples\n",
      "Epoch 1/4\n",
      "143613/143613 [==============================] - 1842s 13ms/step - loss: 0.0571 - acc: 0.9798 - val_loss: 0.0444 - val_acc: 0.9830\n",
      "\n",
      " ROC-AUC - epoch: 1 - score: 0.987243\n",
      "\n",
      "Epoch 00001: val_acc improved from -inf to 0.98301, saving model to gru_model.hdf5\n",
      "Epoch 2/4\n",
      "143613/143613 [==============================] - 1964s 14ms/step - loss: 0.0435 - acc: 0.9833 - val_loss: 0.0419 - val_acc: 0.9837\n",
      "\n",
      " ROC-AUC - epoch: 2 - score: 0.988575\n",
      "\n",
      "Epoch 00002: val_acc improved from 0.98301 to 0.98368, saving model to gru_model.hdf5\n",
      "Epoch 3/4\n",
      "143613/143613 [==============================] - 1818s 13ms/step - loss: 0.0411 - acc: 0.9841 - val_loss: 0.0412 - val_acc: 0.9840\n",
      "\n",
      " ROC-AUC - epoch: 3 - score: 0.989231\n",
      "\n",
      "Epoch 00003: val_acc improved from 0.98368 to 0.98401, saving model to gru_model.hdf5\n",
      "Epoch 4/4\n",
      "143613/143613 [==============================] - 1848s 13ms/step - loss: 0.0388 - acc: 0.9849 - val_loss: 0.0410 - val_acc: 0.9837\n",
      "\n",
      " ROC-AUC - epoch: 4 - score: 0.989286\n",
      "\n",
      "Epoch 00004: val_acc did not improve from 0.98401\n",
      "153164/153164 [==============================] - 434s 3ms/step\n"
     ]
    }
   ],
   "source": [
    "gru_model.fit(X_tra, y_tra, batch_size=batch_size, epochs=epochs, validation_data=(X_val, y_val),callbacks = callbacks_list,verbose=1)\n",
    "gru_model.load_weights(\"gru_model.hdf5\")\n",
    "y_pred_gru = gru_model.predict(x_test,batch_size=1024,verbose=1)"
   ]
  },
  {
   "cell_type": "code",
   "execution_count": 71,
   "metadata": {},
   "outputs": [
    {
     "name": "stdout",
     "output_type": "stream",
     "text": [
      "Test set score is 0.9829294418396707\n"
     ]
    }
   ],
   "source": [
    "submission_new_3 = pd.read_csv('./data/sample_submission.csv')\n",
    "submission_new_3[class_names] = y_pred_gru\n",
    "submission_new_3.to_csv('submission_new_3.csv', index=False)\n",
    "test_score(submission_new_3.drop(submission_new_3.loc[pd.merge(test_data, test_labels, on='id')['toxic']==-1].index))"
   ]
  },
  {
   "cell_type": "markdown",
   "metadata": {},
   "source": [
    "Finally we ensemble the three different models by averaging their predicted probabilities for each row in the test set together (there are more complicated methods of stacking and blending models together, but some research shows that simple averaging can gain appreciable increases in overall model predictive performance that is much more production-viable in terms of time to process new input data):"
   ]
  },
  {
   "cell_type": "code",
   "execution_count": 95,
   "metadata": {},
   "outputs": [
    {
     "name": "stdout",
     "output_type": "stream",
     "text": [
      "Test set score is 0.984155859603041\n"
     ]
    }
   ],
   "source": [
    "benchmark_preds = submission\n",
    "capsnet_preds = submission_new\n",
    "gru_preds = submission_new_3\n",
    "ensemble_preds = benchmark_preds.copy()\n",
    "ensemble_preds[class_names] = (benchmark_preds[class_names] + capsnet_preds[class_names] + gru_preds[class_names]) / 3\n",
    "ensemble_preds.to_csv('ensemble_submission.csv', index=False) # create submission deliverable\n",
    "test_score(ensemble_preds.drop(ensemble_preds.loc[pd.merge(test_data, test_labels, on='id')['toxic']==-1].index))"
   ]
  },
  {
   "cell_type": "markdown",
   "metadata": {},
   "source": [
    "### Results\n",
    "\n",
    "After first implementing a CapsuleNet architecture, I used the standard `test_train_split` sklearn method to create training and validation sets. This model was able to achieve a validation score of ` 0.973554` after 1 epoch (which took me about an hour to run) and a test set score of `0.966448` - again, the scoring is the average of the ROC AUC for all 6 classes. I then reset the model and trained it again, this time using the `iterative_train_test_split` from the scikit-multilearn package to keep the toxicity labels evenly distributed between training and validation sets. This bumped the CapsNet model first epoch validation score to `0.9830`, a nearly 1% imporovement, so I decided to use this method. After full training, the test score was `0.9815`, a `0.015` improvement which at these high levels is quite significant.\n",
    "\n",
    "While this result makes the model quite viable for the task at hand, when it comes to Kaggle competitions, every tiny increase in performance can translate to large jumps on the leaderboard, so I wanted to see if I could do even better. After some research, I found that ensembling methods, where results from multiple models are combined (think of random forests), is usually a promising approach to improve performance. So after skimming through some of the higher performing models that were submitted, I decided to also implement a Pooled Gated Recurrent Unit (GRU) network and then average the 3 model's predicted probabilities for each test comment and see the final combined performance. The table below shows the individual and combined performances:\n",
    "\n",
    "| model               | Test set ROC AUC score |\n",
    "|---------------------|------------------------|\n",
    "| Logistic Regression | 0.9765                 |\n",
    "| CapsuleNet          | 0.9815                 |\n",
    "| Pooled GRU          | 0.9829                 |\n",
    "| Ensemble            | 0.9842                 |\n",
    "\n",
    "This end score is within 0.0044 of the top submission (0.98856) in the competition, and good enough to place in the top third of submissions (as can be seen, there is intense competition to get those last few decimal places). Further tweaking of the models, more training epochs, and addition of more models into the ensemble would no doubt improve performance of my model further.\n",
    "\n",
    "The final product is a CSV file that could be submitted for scoring in the Kaggle competition, with predicted probabilities of each toxicity classification (assuming 0.5 or over is a positive label):"
   ]
  },
  {
   "cell_type": "code",
   "execution_count": 96,
   "metadata": {},
   "outputs": [
    {
     "data": {
      "text/html": [
       "<div>\n",
       "<style scoped>\n",
       "    .dataframe tbody tr th:only-of-type {\n",
       "        vertical-align: middle;\n",
       "    }\n",
       "\n",
       "    .dataframe tbody tr th {\n",
       "        vertical-align: top;\n",
       "    }\n",
       "\n",
       "    .dataframe thead th {\n",
       "        text-align: right;\n",
       "    }\n",
       "</style>\n",
       "<table border=\"1\" class=\"dataframe\">\n",
       "  <thead>\n",
       "    <tr style=\"text-align: right;\">\n",
       "      <th></th>\n",
       "      <th>id</th>\n",
       "      <th>toxic</th>\n",
       "      <th>severe_toxic</th>\n",
       "      <th>obscene</th>\n",
       "      <th>threat</th>\n",
       "      <th>insult</th>\n",
       "      <th>identity_hate</th>\n",
       "    </tr>\n",
       "  </thead>\n",
       "  <tbody>\n",
       "    <tr>\n",
       "      <th>153142</th>\n",
       "      <td>fff69311f306df44</td>\n",
       "      <td>0.023293</td>\n",
       "      <td>0.001988</td>\n",
       "      <td>0.007768</td>\n",
       "      <td>0.001021</td>\n",
       "      <td>0.009774</td>\n",
       "      <td>0.003242</td>\n",
       "    </tr>\n",
       "    <tr>\n",
       "      <th>153144</th>\n",
       "      <td>fff7159b3ee95618</td>\n",
       "      <td>0.022855</td>\n",
       "      <td>0.001967</td>\n",
       "      <td>0.008148</td>\n",
       "      <td>0.001492</td>\n",
       "      <td>0.010687</td>\n",
       "      <td>0.002807</td>\n",
       "    </tr>\n",
       "    <tr>\n",
       "      <th>153145</th>\n",
       "      <td>fff718ffe5f05559</td>\n",
       "      <td>0.008101</td>\n",
       "      <td>0.001126</td>\n",
       "      <td>0.003697</td>\n",
       "      <td>0.000746</td>\n",
       "      <td>0.004281</td>\n",
       "      <td>0.001944</td>\n",
       "    </tr>\n",
       "    <tr>\n",
       "      <th>153147</th>\n",
       "      <td>fff83b80284d8440</td>\n",
       "      <td>0.026423</td>\n",
       "      <td>0.001683</td>\n",
       "      <td>0.006553</td>\n",
       "      <td>0.000918</td>\n",
       "      <td>0.007654</td>\n",
       "      <td>0.001963</td>\n",
       "    </tr>\n",
       "    <tr>\n",
       "      <th>153149</th>\n",
       "      <td>fff8f521a7dbcd47</td>\n",
       "      <td>0.632408</td>\n",
       "      <td>0.013092</td>\n",
       "      <td>0.168436</td>\n",
       "      <td>0.004752</td>\n",
       "      <td>0.114637</td>\n",
       "      <td>0.017151</td>\n",
       "    </tr>\n",
       "    <tr>\n",
       "      <th>153150</th>\n",
       "      <td>fff8f64043129fa2</td>\n",
       "      <td>0.003220</td>\n",
       "      <td>0.000719</td>\n",
       "      <td>0.002141</td>\n",
       "      <td>0.000724</td>\n",
       "      <td>0.002007</td>\n",
       "      <td>0.001032</td>\n",
       "    </tr>\n",
       "    <tr>\n",
       "      <th>153151</th>\n",
       "      <td>fff9d70fe0722906</td>\n",
       "      <td>0.607600</td>\n",
       "      <td>0.014873</td>\n",
       "      <td>0.333263</td>\n",
       "      <td>0.004693</td>\n",
       "      <td>0.336115</td>\n",
       "      <td>0.009291</td>\n",
       "    </tr>\n",
       "    <tr>\n",
       "      <th>153154</th>\n",
       "      <td>fffa8a11c4378854</td>\n",
       "      <td>0.636889</td>\n",
       "      <td>0.010771</td>\n",
       "      <td>0.081551</td>\n",
       "      <td>0.006263</td>\n",
       "      <td>0.174566</td>\n",
       "      <td>0.177566</td>\n",
       "    </tr>\n",
       "    <tr>\n",
       "      <th>153155</th>\n",
       "      <td>fffac2a094c8e0e2</td>\n",
       "      <td>0.952921</td>\n",
       "      <td>0.138994</td>\n",
       "      <td>0.884936</td>\n",
       "      <td>0.013073</td>\n",
       "      <td>0.811505</td>\n",
       "      <td>0.158881</td>\n",
       "    </tr>\n",
       "    <tr>\n",
       "      <th>153156</th>\n",
       "      <td>fffb5451268fb5ba</td>\n",
       "      <td>0.017726</td>\n",
       "      <td>0.001551</td>\n",
       "      <td>0.007013</td>\n",
       "      <td>0.000941</td>\n",
       "      <td>0.006229</td>\n",
       "      <td>0.002169</td>\n",
       "    </tr>\n",
       "  </tbody>\n",
       "</table>\n",
       "</div>"
      ],
      "text/plain": [
       "                      id     toxic  severe_toxic   obscene    threat  \\\n",
       "153142  fff69311f306df44  0.023293      0.001988  0.007768  0.001021   \n",
       "153144  fff7159b3ee95618  0.022855      0.001967  0.008148  0.001492   \n",
       "153145  fff718ffe5f05559  0.008101      0.001126  0.003697  0.000746   \n",
       "153147  fff83b80284d8440  0.026423      0.001683  0.006553  0.000918   \n",
       "153149  fff8f521a7dbcd47  0.632408      0.013092  0.168436  0.004752   \n",
       "153150  fff8f64043129fa2  0.003220      0.000719  0.002141  0.000724   \n",
       "153151  fff9d70fe0722906  0.607600      0.014873  0.333263  0.004693   \n",
       "153154  fffa8a11c4378854  0.636889      0.010771  0.081551  0.006263   \n",
       "153155  fffac2a094c8e0e2  0.952921      0.138994  0.884936  0.013073   \n",
       "153156  fffb5451268fb5ba  0.017726      0.001551  0.007013  0.000941   \n",
       "\n",
       "          insult  identity_hate  \n",
       "153142  0.009774       0.003242  \n",
       "153144  0.010687       0.002807  \n",
       "153145  0.004281       0.001944  \n",
       "153147  0.007654       0.001963  \n",
       "153149  0.114637       0.017151  \n",
       "153150  0.002007       0.001032  \n",
       "153151  0.336115       0.009291  \n",
       "153154  0.174566       0.177566  \n",
       "153155  0.811505       0.158881  \n",
       "153156  0.006229       0.002169  "
      ]
     },
     "execution_count": 96,
     "metadata": {},
     "output_type": "execute_result"
    }
   ],
   "source": [
    "ensemble_preds.tail(10)"
   ]
  },
  {
   "cell_type": "markdown",
   "metadata": {},
   "source": [
    "And visualizations of the ROC curves for the final (ensembled) model submission for each toxicity label - the area under these curves are averaged for the overall score in the competition:"
   ]
  },
  {
   "cell_type": "code",
   "execution_count": 174,
   "metadata": {},
   "outputs": [
    {
     "data": {
      "text/plain": [
       "<matplotlib.axes._subplots.AxesSubplot at 0x1bd7826b70>"
      ]
     },
     "execution_count": 174,
     "metadata": {},
     "output_type": "execute_result"
    },
    {
     "data": {
      "image/png": "[encoded data removed]",
      "text/plain": [
       "<Figure size 720x576 with 1 Axes>"
      ]
     },
     "metadata": {
      "needs_background": "light"
     },
     "output_type": "display_data"
    }
   ],
   "source": [
    "import scikitplot as skplot\n",
    "ground_truth = test_labels.copy()\n",
    "ground_truth.drop(ground_truth.loc[ground_truth['toxic']==-1].index, inplace=True)\n",
    "ground_truth=ground_truth[ground_truth.columns[-6:]]\n",
    "predicted = ensemble_preds[ensemble_preds.columns[-6:]]\n",
    "# toxic label ROC curve\n",
    "y_pred_probs = predicted['toxic'].values.reshape(-1,1)\n",
    "y_pred_probs = np.concatenate((1-y_pred_probs, y_pred_probs), axis=1)\n",
    "truth = ground_truth['toxic'].values.reshape(-1,1)\n",
    "skplot.metrics.plot_roc(truth, y_pred_probs, '\"toxic\" comment label', plot_micro=False,\n",
    "                        plot_macro=False, classes_to_plot=[1], figsize=(10,8), title_fontsize=18,\n",
    "                        text_fontsize=14)"
   ]
  },
  {
   "cell_type": "raw",
   "metadata": {},
   "source": []
  },
  {
   "cell_type": "code",
   "execution_count": 177,
   "metadata": {},
   "outputs": [
    {
     "data": {
      "text/plain": [
       "<matplotlib.axes._subplots.AxesSubplot at 0x1bdb3b7198>"
      ]
     },
     "execution_count": 177,
     "metadata": {},
     "output_type": "execute_result"
    },
    {
     "data": {
      "image/png": "[encoded data removed]",
      "text/plain": [
       "<Figure size 720x576 with 1 Axes>"
      ]
     },
     "metadata": {
      "needs_background": "light"
     },
     "output_type": "display_data"
    }
   ],
   "source": [
    "# severe_toxic label ROC curve\n",
    "y_pred_probs = predicted['severe_toxic'].values.reshape(-1,1)\n",
    "y_pred_probs = np.concatenate((1-y_pred_probs, y_pred_probs), axis=1)\n",
    "truth = ground_truth['severe_toxic'].values.reshape(-1,1)\n",
    "skplot.metrics.plot_roc(truth, y_pred_probs, '\"severe_toxic\" comment label', plot_micro=False,\n",
    "                        plot_macro=False, classes_to_plot=[1], figsize=(10,8), title_fontsize=18,\n",
    "                        text_fontsize=14, cmap=\"winter\")"
   ]
  },
  {
   "cell_type": "code",
   "execution_count": 179,
   "metadata": {},
   "outputs": [
    {
     "data": {
      "text/plain": [
       "<matplotlib.axes._subplots.AxesSubplot at 0x1bd1478e10>"
      ]
     },
     "execution_count": 179,
     "metadata": {},
     "output_type": "execute_result"
    },
    {
     "data": {
      "image/png": "[encoded data removed]",
      "text/plain": [
       "<Figure size 720x576 with 1 Axes>"
      ]
     },
     "metadata": {
      "needs_background": "light"
     },
     "output_type": "display_data"
    }
   ],
   "source": [
    "# obscene label ROC curve\n",
    "y_pred_probs = predicted['obscene'].values.reshape(-1,1)\n",
    "y_pred_probs = np.concatenate((1-y_pred_probs, y_pred_probs), axis=1)\n",
    "truth = ground_truth['obscene'].values.reshape(-1,1)\n",
    "skplot.metrics.plot_roc(truth, y_pred_probs, '\"obscene\" comment label', plot_micro=False,\n",
    "                        plot_macro=False, classes_to_plot=[1], figsize=(10,8), title_fontsize=18,\n",
    "                        text_fontsize=14, cmap=\"rocket\")"
   ]
  },
  {
   "cell_type": "code",
   "execution_count": 181,
   "metadata": {},
   "outputs": [
    {
     "data": {
      "text/plain": [
       "<matplotlib.axes._subplots.AxesSubplot at 0x1bc7a01ef0>"
      ]
     },
     "execution_count": 181,
     "metadata": {},
     "output_type": "execute_result"
    },
    {
     "data": {
      "image/png": "[encoded data removed]",
      "text/plain": [
       "<Figure size 720x576 with 1 Axes>"
      ]
     },
     "metadata": {
      "needs_background": "light"
     },
     "output_type": "display_data"
    }
   ],
   "source": [
    "# threat label ROC curve\n",
    "y_pred_probs = predicted['threat'].values.reshape(-1,1)\n",
    "y_pred_probs = np.concatenate((1-y_pred_probs, y_pred_probs), axis=1)\n",
    "truth = ground_truth['threat'].values.reshape(-1,1)\n",
    "skplot.metrics.plot_roc(truth, y_pred_probs, '\"threat\" comment label', plot_micro=False,\n",
    "                        plot_macro=False, classes_to_plot=[1], figsize=(10,8), title_fontsize=18,\n",
    "                        text_fontsize=14, cmap=\"viridis\")"
   ]
  },
  {
   "cell_type": "code",
   "execution_count": 183,
   "metadata": {},
   "outputs": [
    {
     "data": {
      "text/plain": [
       "<matplotlib.axes._subplots.AxesSubplot at 0x1bde1f3c18>"
      ]
     },
     "execution_count": 183,
     "metadata": {},
     "output_type": "execute_result"
    },
    {
     "data": {
      "image/png": "[encoded data removed]",
      "text/plain": [
       "<Figure size 720x576 with 1 Axes>"
      ]
     },
     "metadata": {
      "needs_background": "light"
     },
     "output_type": "display_data"
    }
   ],
   "source": [
    "# insult label ROC curve\n",
    "y_pred_probs = predicted['insult'].values.reshape(-1,1)\n",
    "y_pred_probs = np.concatenate((1-y_pred_probs, y_pred_probs), axis=1)\n",
    "truth = ground_truth['insult'].values.reshape(-1,1)\n",
    "skplot.metrics.plot_roc(truth, y_pred_probs, '\"insult\" comment label', plot_micro=False,\n",
    "                        plot_macro=False, classes_to_plot=[1], figsize=(10,8), title_fontsize=18,\n",
    "                        text_fontsize=14, cmap=\"prism\")"
   ]
  },
  {
   "cell_type": "code",
   "execution_count": 190,
   "metadata": {},
   "outputs": [
    {
     "data": {
      "text/plain": [
       "<matplotlib.axes._subplots.AxesSubplot at 0x1bd936e0b8>"
      ]
     },
     "execution_count": 190,
     "metadata": {},
     "output_type": "execute_result"
    },
    {
     "data": {
      "image/png": "[encoded data removed]",
      "text/plain": [
       "<Figure size 720x576 with 1 Axes>"
      ]
     },
     "metadata": {
      "needs_background": "light"
     },
     "output_type": "display_data"
    }
   ],
   "source": [
    "# identity_hate label ROC curve\n",
    "y_pred_probs = predicted['identity_hate'].values.reshape(-1,1)\n",
    "y_pred_probs = np.concatenate((1-y_pred_probs, y_pred_probs), axis=1)\n",
    "truth = ground_truth['identity_hate'].values.reshape(-1,1)\n",
    "skplot.metrics.plot_roc(truth, y_pred_probs, '\"identity_hate\" comment label', plot_micro=False,\n",
    "                        plot_macro=False, classes_to_plot=[1], figsize=(10,8), title_fontsize=18,\n",
    "                        text_fontsize=14, cmap=\"gnuplot2\")"
   ]
  }
 ],
 "metadata": {
  "kernelspec": {
   "display_name": "Python 3",
   "language": "python",
   "name": "python3"
  },
  "language_info": {
   "codemirror_mode": {
    "name": "ipython",
    "version": 3
   },
   "file_extension": ".py",
   "mimetype": "text/x-python",
   "name": "python",
   "nbconvert_exporter": "python",
   "pygments_lexer": "ipython3",
   "version": "3.7.3"
  }
 },
 "nbformat": 4,
 "nbformat_minor": 2
}
